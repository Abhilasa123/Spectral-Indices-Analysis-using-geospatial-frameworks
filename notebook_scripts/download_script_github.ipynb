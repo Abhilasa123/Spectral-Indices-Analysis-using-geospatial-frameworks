{
 "cells": [
  {
   "cell_type": "markdown",
   "id": "6208c53b",
   "metadata": {},
   "source": [
    "# Download from google drive"
   ]
  },
  {
   "cell_type": "markdown",
   "id": "681e3043",
   "metadata": {},
   "source": [
    "This script will download some Google Drive files from our drive root folder. For the same we have to create Google drive API credentials. Refer to this [video](https://www.youtube.com/watch?v=fAxXNovO-vg&t=0s) to setup the credentials.I have not included the client_script file or the credentials.json file in this repository for privacy concerns."
   ]
  },
  {
   "cell_type": "markdown",
   "id": "a8f0acf1",
   "metadata": {},
   "source": [
    "## Imports"
   ]
  },
  {
   "cell_type": "code",
   "execution_count": null,
   "id": "dc43aab8",
   "metadata": {},
   "outputs": [],
   "source": [
    "from pydrive.auth import GoogleAuth\n",
    "from pydrive.drive import GoogleDrive\n",
    "from glob import glob\n",
    "import os"
   ]
  },
  {
   "cell_type": "markdown",
   "id": "3b8cb65e",
   "metadata": {},
   "source": [
    "## Authenticate your Google Drive"
   ]
  },
  {
   "cell_type": "code",
   "execution_count": null,
   "id": "88462230",
   "metadata": {},
   "outputs": [],
   "source": [
    "gauth = GoogleAuth()\n",
    "drive = GoogleDrive(gauth)"
   ]
  },
  {
   "cell_type": "markdown",
   "id": "8878e4e1",
   "metadata": {},
   "source": [
    "## Download Loop"
   ]
  },
  {
   "cell_type": "code",
   "execution_count": null,
   "id": "ebd003f9",
   "metadata": {},
   "outputs": [],
   "source": [
    "parent_dir = \"insert the target download folder in your local machine here.\""
   ]
  },
  {
   "cell_type": "code",
   "execution_count": null,
   "id": "99f0c358",
   "metadata": {},
   "outputs": [],
   "source": [
    "# Get the list of folders\n",
    "f = drive.ListFile({\"q\": \"mimeType='application/vnd.google-apps.folder' and trashed=false\"}).GetList()\n",
    "\n",
    "# Iterate over the folders \n",
    "for i,folder in enumerate(f):\n",
    "    \n",
    "    # Only get the required city folders\n",
    "    if folder['title']== 'Jorhat' or folder['title']== 'Bangalore Urban' :\n",
    "\n",
    "        # Make a target folder in the local directory for the city chosen\n",
    "        target_dir = folder['title']\n",
    "        filepath = os.path.join(parent_dir+'/'+target_dir+'/')\n",
    "   \n",
    "        if not os.path.isdir(filepath): \n",
    "            os.mkdir(filepath)\n",
    "       \n",
    "        # Get the folder id\n",
    "        fileID = folder['id']\n",
    "    \n",
    "        # Get the file list from the chosen folder\n",
    "        file_list = drive.ListFile({'q' : f\"'{fileID}' in parents and trashed=false\"}).GetList()\n",
    "        # Loop over the files in the specified folder\n",
    "        for index, file in enumerate(file_list):\n",
    "            print(index+1, 'file downloaded : ', file['title'])\n",
    "            file.GetContentFile(filepath+file['title'])"
   ]
  }
 ],
 "metadata": {
  "kernelspec": {
   "display_name": "Python 3 (ipykernel)",
   "language": "python",
   "name": "python3"
  },
  "language_info": {
   "codemirror_mode": {
    "name": "ipython",
    "version": 3
   },
   "file_extension": ".py",
   "mimetype": "text/x-python",
   "name": "python",
   "nbconvert_exporter": "python",
   "pygments_lexer": "ipython3",
   "version": "3.9.12"
  }
 },
 "nbformat": 4,
 "nbformat_minor": 5
}
