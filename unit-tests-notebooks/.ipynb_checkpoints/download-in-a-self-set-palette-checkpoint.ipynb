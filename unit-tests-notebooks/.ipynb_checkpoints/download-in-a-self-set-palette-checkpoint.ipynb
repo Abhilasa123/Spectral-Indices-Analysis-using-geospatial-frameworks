{
 "cells": [
  {
   "cell_type": "markdown",
   "id": "fff9063e",
   "metadata": {},
   "source": [
    "# Download an GEOtiff image in a custom set palette"
   ]
  },
  {
   "cell_type": "code",
   "execution_count": null,
   "id": "b9cc772c",
   "metadata": {},
   "outputs": [],
   "source": [
    "#imports\n",
    "import geemap\n",
    "import ee \n",
    "import os"
   ]
  },
  {
   "cell_type": "code",
   "execution_count": null,
   "id": "38c4afe5",
   "metadata": {},
   "outputs": [],
   "source": [
    "# Create an interactive map to view the results.\n",
    "Map = geemap.Map(center=[40,100], zoom=4)\n",
    "Map"
   ]
  },
  {
   "cell_type": "code",
   "execution_count": null,
   "id": "93b5227c",
   "metadata": {},
   "outputs": [],
   "source": [
    "# Get the dataset from the earth engine server.\n",
    "dataset_l7 = ee.ImageCollection('LANDSAT/LE07/C01/T1_RT_TOA')"
   ]
  },
  {
   "cell_type": "code",
   "execution_count": null,
   "id": "7ae8a79e",
   "metadata": {},
   "outputs": [],
   "source": [
    "# add the necessary shapefile\n",
    "# This can be a shapefile of the region of interest we want to extract from the whole map. We can also specify some\n",
    "# geometry objects in the form of polygon for getting the roi, if not available freely.\n",
    "city_file = './shapefiles/Bengaluru-shapefile/BBMP_Boundary.shp'\n",
    "roi = geemap.shp_to_ee(city_file)\n",
    "Map.addLayer(roi, {}, 'Bengaluru')"
   ]
  },
  {
   "cell_type": "code",
   "execution_count": null,
   "id": "81ffb8c0",
   "metadata": {},
   "outputs": [],
   "source": [
    "# Get the mean image\n",
    "mean_img = (dataset_l7.filterDate('2000-03-01','2000-05-31')\n",
    "                    .filterBounds(roi)\n",
    "                    .map(clip_to_shape)\n",
    "                    .select('B4','B3')\n",
    "                    .mean())\n",
    "\n",
    "# NDVI computation on the mean image\n",
    "ndvi_img = mean_img.normalizedDifference(['B4', 'B3'])"
   ]
  },
  {
   "cell_type": "code",
   "execution_count": null,
   "id": "07d73988",
   "metadata": {},
   "outputs": [],
   "source": [
    "# Set a palette according to your choice\n",
    "\n",
    "# ndvi_visualization = {\n",
    "#   'min': -0.22789797020331423,\n",
    "#   'max': 0.3912415762453296,\n",
    "#   'palette': 'FFFFFF, CE7E45, DF923D, F1B555, FCD163, 99B718, 74A901, 66A000, 529400,' + \\\n",
    "#     '3E8601, 207401, 056201, 004C00, 023B01, 012E01, 011D01, 011301'\n",
    "# }\n",
    "\n",
    "ndvi_visualization = {\n",
    "  'min': -1,\n",
    "  'max': 1,\n",
    "  'palette': 'FFFFFF, CE7E45, DF923D, F1B555, FCD163, 99B718, 74A901, 66A000, 529400,' + \\\n",
    "    '3E8601, 207401, 056201, 004C00, 023B01, 012E01, 011D01, 011301'\n",
    "}"
   ]
  },
  {
   "cell_type": "code",
   "execution_count": null,
   "id": "a6342cb1",
   "metadata": {},
   "outputs": [],
   "source": [
    "# Get the image with the palette\n",
    "corrected_img = ndvi_img.visualize(**ndvi_visualization)"
   ]
  },
  {
   "cell_type": "code",
   "execution_count": null,
   "id": "b5195b00",
   "metadata": {},
   "outputs": [],
   "source": [
    "# Download the image\n",
    "task = ee.batch.Export.image.toDrive(image= corrected_img.toFloat(),\n",
    "                                     description='ndvi-image',\n",
    "                                     scale=30,\n",
    "                                     region=roi.geometry(),\n",
    "                                     fileNamePrefix='ndvi-img-14',\n",
    "                                     fileFormat='GeoTIFF')\n",
    "task.start()"
   ]
  }
 ],
 "metadata": {
  "kernelspec": {
   "display_name": "Python 3 (ipykernel)",
   "language": "python",
   "name": "python3"
  },
  "language_info": {
   "codemirror_mode": {
    "name": "ipython",
    "version": 3
   },
   "file_extension": ".py",
   "mimetype": "text/x-python",
   "name": "python",
   "nbconvert_exporter": "python",
   "pygments_lexer": "ipython3",
   "version": "3.9.12"
  }
 },
 "nbformat": 4,
 "nbformat_minor": 5
}
