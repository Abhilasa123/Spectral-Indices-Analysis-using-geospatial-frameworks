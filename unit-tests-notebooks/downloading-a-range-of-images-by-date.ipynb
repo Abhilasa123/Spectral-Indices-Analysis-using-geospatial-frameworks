{
 "cells": [
  {
   "cell_type": "markdown",
   "id": "143f607b",
   "metadata": {},
   "source": [
    "## Downloading a range of images by date"
   ]
  },
  {
   "cell_type": "code",
   "execution_count": null,
   "id": "39fc93b9",
   "metadata": {},
   "outputs": [],
   "source": [
    "import geemap\n",
    "import ee \n",
    "import os"
   ]
  },
  {
   "cell_type": "code",
   "execution_count": null,
   "id": "4f690670",
   "metadata": {},
   "outputs": [],
   "source": [
    "# Create an interactive map to view the results\n",
    "Map = geemap.Map(center=[40,100], zoom=4)\n",
    "Map"
   ]
  },
  {
   "cell_type": "code",
   "execution_count": null,
   "id": "304b66cb",
   "metadata": {},
   "outputs": [],
   "source": [
    "# Get the dataset from the earth engine server\n",
    "dataset_l7 = ee.ImageCollection('LANDSAT/LE07/C01/T1_RT_TOA')"
   ]
  },
  {
   "cell_type": "code",
   "execution_count": null,
   "id": "d9cec6d4",
   "metadata": {},
   "outputs": [],
   "source": [
    "# add the necessary shapefile\n",
    "# This can be a shapefile of the region of interest we want to extract from the whole map. We can also specify some\n",
    "# geometry objects in the form of polygon for getting the roi, if not available freely.\n",
    "city_file = '/home/manpa/Manpa_folder/Academic/Projects/APU work/shapefiles/Bengaluru-shapefile/BBMP_Boundary.shp'\n",
    "roi = geemap.shp_to_ee(city_file)\n",
    "Map.addLayer(roi, {}, 'Bengaluru')"
   ]
  },
  {
   "cell_type": "code",
   "execution_count": null,
   "id": "c01d1ef7",
   "metadata": {},
   "outputs": [],
   "source": [
    "# Prepare an image collection object to filter the dataset with a given time interval. We might get one or more\n",
    "# images within that time frame\n",
    "# We also select the roi or region of interest and the bands to be extracted along with the dates\n",
    "collection = (dataset_l7.filterDate('2002-03-01','2002-05-31') \n",
    "                .filterBounds(roi).select('B4'))\n",
    "save_path = '../junk/'"
   ]
  },
  {
   "cell_type": "code",
   "execution_count": null,
   "id": "9b896e05",
   "metadata": {},
   "outputs": [],
   "source": [
    "# download the image collection using geemap\n",
    "geemap.ee_export_image_collection(\n",
    "    collection, \n",
    "    out_dir = save_path, \n",
    "    scale=100, \n",
    "    crs=None, \n",
    "    region=None, \n",
    "    file_per_band=False, \n",
    "    timeout=300, \n",
    "    proxies=None\n",
    ")"
   ]
  }
 ],
 "metadata": {
  "kernelspec": {
   "display_name": "Python 3 (ipykernel)",
   "language": "python",
   "name": "python3"
  },
  "language_info": {
   "codemirror_mode": {
    "name": "ipython",
    "version": 3
   },
   "file_extension": ".py",
   "mimetype": "text/x-python",
   "name": "python",
   "nbconvert_exporter": "python",
   "pygments_lexer": "ipython3",
   "version": "3.9.12"
  }
 },
 "nbformat": 4,
 "nbformat_minor": 5
}
