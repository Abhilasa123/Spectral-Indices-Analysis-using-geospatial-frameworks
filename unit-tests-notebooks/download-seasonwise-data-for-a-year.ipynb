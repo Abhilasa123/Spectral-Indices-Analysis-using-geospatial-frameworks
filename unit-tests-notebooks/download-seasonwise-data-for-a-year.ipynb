{
 "cells": [
  {
   "cell_type": "markdown",
   "id": "eeccf177",
   "metadata": {},
   "source": [
    "# Download season wise data for one year"
   ]
  },
  {
   "cell_type": "code",
   "execution_count": 1,
   "id": "e8fdb9b4",
   "metadata": {},
   "outputs": [],
   "source": [
    "#imports\n",
    "import geemap\n",
    "import ee \n",
    "import os"
   ]
  },
  {
   "cell_type": "code",
   "execution_count": null,
   "id": "3e41cdc5",
   "metadata": {},
   "outputs": [],
   "source": [
    "# Create an interactive map to view the results.\n",
    "Map = geemap.Map(center=[40,100], zoom=4)\n",
    "Map"
   ]
  },
  {
   "cell_type": "code",
   "execution_count": null,
   "id": "cf5dc4a7",
   "metadata": {},
   "outputs": [],
   "source": [
    "# Get the dataset from the earth engine server.\n",
    "dataset_l7 = ee.ImageCollection('LANDSAT/LE07/C01/T1_RT_TOA')"
   ]
  },
  {
   "cell_type": "code",
   "execution_count": null,
   "id": "484497f5",
   "metadata": {},
   "outputs": [],
   "source": [
    "# add the necessary shapefile\n",
    "# This can be a shapefile of the region of interest we want to extract from the whole map. We can also specify some\n",
    "# geometry objects in the form of polygon for getting the roi, if not available freely.\n",
    "city_file = './shapefiles/Bengaluru-shapefile/BBMP_Boundary.shp'\n",
    "roi = geemap.shp_to_ee(city_file)\n",
    "Map.addLayer(roi, {}, 'Bengaluru')"
   ]
  },
  {
   "cell_type": "code",
   "execution_count": null,
   "id": "ba91bce1",
   "metadata": {},
   "outputs": [],
   "source": [
    "# Initialize the parameters\n",
    "seasons = {'mam':[1,3,31,5],'jjas':[1,6,30,9],'on':[1,10,30,11],'djf':[1,12,28,2],'ann':[1,3,28,2]}\n",
    "year = 2000\n",
    "save_path = '../images/'"
   ]
  },
  {
   "cell_type": "markdown",
   "id": "391eb303",
   "metadata": {},
   "source": [
    "## Helper Functions"
   ]
  },
  {
   "cell_type": "code",
   "execution_count": null,
   "id": "99850f27",
   "metadata": {},
   "outputs": [],
   "source": [
    "# clip to shape\n",
    "def clip_to_shape(image):\n",
    "    return image.clip(roi)"
   ]
  },
  {
   "cell_type": "code",
   "execution_count": null,
   "id": "20a00903",
   "metadata": {},
   "outputs": [],
   "source": [
    "# Mask the clouds\n",
    "def maskclouds(image):\n",
    "    # Select the BQA band, which has the cloud information\n",
    "    qa = image.select('BQA')\n",
    "​\n",
    "    # In BQA Band bit 4 is the cloud band, hence activate only that bit, set all other bits of BQA to zero\n",
    "    cloudBit = 1 << 4 #(00000001 -> 00010000) \n",
    "​\n",
    "    # Both flags should be set to zero, indicating clear conditions.\n",
    "    mask = qa.bitwiseAnd(cloudBit).eq(0) # And with all the other bits of BQA to check for clouds\n",
    "    return image.updateMask(mask)"
   ]
  },
  {
   "cell_type": "code",
   "execution_count": null,
   "id": "4cf8eb8f",
   "metadata": {},
   "outputs": [],
   "source": [
    "# Function to define the dates for the specified study interval\n",
    "def filter_date(year,i,flag):\n",
    "    start_date = ee.Date.fromYMD(year,seasons[i][1],seasons[i][0])\n",
    "    if flag==0:\n",
    "        end_date = ee.Date.fromYMD(year,seasons[i][3],seasons[i][2])\n",
    "    else:\n",
    "        end_date = ee.Date.fromYMD(year+1,seasons[i][3],seasons[i][2])\n",
    "    \n",
    "    img = (dataset_l7.filterDate(start_date,end_date)\n",
    "                    .filterBounds(roi)\n",
    "                    .select('B3','B4')\n",
    "                    .mean())\n",
    "    return img"
   ]
  },
  {
   "cell_type": "code",
   "execution_count": null,
   "id": "1d072928",
   "metadata": {},
   "outputs": [],
   "source": [
    "# Function to loop over the different study intervals\n",
    "def yearlyMap(year):\n",
    "    img = filter_date(year,'mam',flag=0)\n",
    "    filename = os.path.join(save_path,'test.tif')\n",
    "    filename_ = save_path\n",
    "    download(img, filename)\n",
    "    for k,i in enumerate(seasons):\n",
    "        if i=='djf' or i== 'ann':\n",
    "            img = filter_date(year,i,flag=1) \n",
    "        else:\n",
    "            img = filter_date(year,i,flag=0)\n",
    "        filename = os.path.join(save_path,i+'-'+ str(k)+'.tif')\n",
    "        download(img, filename)"
   ]
  },
  {
   "cell_type": "code",
   "execution_count": null,
   "id": "ab5ddb7c",
   "metadata": {},
   "outputs": [],
   "source": [
    "def download(img,filename):\n",
    "    geemap.ee_export_image(\n",
    "    img, \n",
    "    filename = filename, \n",
    "    scale=None, \n",
    "    crs=None, \n",
    "    region=roi.geometry(), \n",
    "    file_per_band=False, \n",
    "    timeout=300, \n",
    "    proxies=None\n",
    ")"
   ]
  },
  {
   "cell_type": "markdown",
   "id": "426099cd",
   "metadata": {},
   "source": [
    "## Generate the maps for a particular year"
   ]
  },
  {
   "cell_type": "code",
   "execution_count": null,
   "id": "fe0c34ed",
   "metadata": {},
   "outputs": [],
   "source": [
    "yearlyMap(2000)"
   ]
  }
 ],
 "metadata": {
  "kernelspec": {
   "display_name": "Python 3 (ipykernel)",
   "language": "python",
   "name": "python3"
  },
  "language_info": {
   "codemirror_mode": {
    "name": "ipython",
    "version": 3
   },
   "file_extension": ".py",
   "mimetype": "text/x-python",
   "name": "python",
   "nbconvert_exporter": "python",
   "pygments_lexer": "ipython3",
   "version": "3.9.12"
  }
 },
 "nbformat": 4,
 "nbformat_minor": 5
}
