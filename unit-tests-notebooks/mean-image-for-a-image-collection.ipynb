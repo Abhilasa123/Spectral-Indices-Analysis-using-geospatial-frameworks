{
 "cells": [
  {
   "cell_type": "markdown",
   "id": "031d73b1",
   "metadata": {},
   "source": [
    "## Compute the mean image for a image collection"
   ]
  },
  {
   "cell_type": "code",
   "execution_count": null,
   "id": "9b292407",
   "metadata": {},
   "outputs": [],
   "source": [
    "#imports\n",
    "import geemap\n",
    "import ee \n",
    "import os"
   ]
  },
  {
   "cell_type": "code",
   "execution_count": null,
   "id": "9adefeb0",
   "metadata": {},
   "outputs": [],
   "source": [
    "# Create an interactive map to view the results.\n",
    "Map = geemap.Map(center=[40,100], zoom=4)\n",
    "Map"
   ]
  },
  {
   "cell_type": "code",
   "execution_count": null,
   "id": "8b6ba141",
   "metadata": {},
   "outputs": [],
   "source": [
    "# Get the dataset from the earth engine server.\n",
    "dataset_l7 = ee.ImageCollection('LANDSAT/LE07/C01/T1_RT_TOA')"
   ]
  },
  {
   "cell_type": "code",
   "execution_count": null,
   "id": "20ea5719",
   "metadata": {},
   "outputs": [],
   "source": [
    "# add the necessary shapefile\n",
    "# This can be a shapefile of the region of interest we want to extract from the whole map. We can also specify some\n",
    "# geometry objects in the form of polygon for getting the roi, if not available freely.\n",
    "city_file = './shapefiles/Bengaluru-shapefile/BBMP_Boundary.shp'\n",
    "roi = geemap.shp_to_ee(city_file)\n",
    "Map.addLayer(roi, {}, 'Bengaluru')"
   ]
  },
  {
   "cell_type": "code",
   "execution_count": null,
   "id": "e98b451d",
   "metadata": {},
   "outputs": [],
   "source": [
    "# clip to shape\n",
    "def clip_to_shape(image):\n",
    "    return image.clip(roi)"
   ]
  },
  {
   "cell_type": "code",
   "execution_count": null,
   "id": "c04279f6",
   "metadata": {},
   "outputs": [],
   "source": [
    "# Get the mean image from a image collection between specified dates\n",
    "mean_img = (dataset_l7.filterDate('2000-03-01','2000-05-31')\n",
    "                    .filterBounds(roi)\n",
    "                    .map(clip_to_shape)\n",
    "                    .select('B2','B3')\n",
    "                    .mean())"
   ]
  },
  {
   "cell_type": "code",
   "execution_count": null,
   "id": "03f6e557",
   "metadata": {},
   "outputs": [],
   "source": [
    "# download the image to drive\n",
    "task = ee.batch.Export.image.toDrive(image= mean_img,\n",
    "                                     description='mean-image',\n",
    "                                     scale=30,\n",
    "                                     region=roi.geometry(),\n",
    "                                     fileNamePrefix='mean-img-1',\n",
    "                                     fileFormat='GeoTIFF')\n",
    "task.start()"
   ]
  }
 ],
 "metadata": {
  "kernelspec": {
   "display_name": "Python 3 (ipykernel)",
   "language": "python",
   "name": "python3"
  },
  "language_info": {
   "codemirror_mode": {
    "name": "ipython",
    "version": 3
   },
   "file_extension": ".py",
   "mimetype": "text/x-python",
   "name": "python",
   "nbconvert_exporter": "python",
   "pygments_lexer": "ipython3",
   "version": "3.9.12"
  }
 },
 "nbformat": 4,
 "nbformat_minor": 5
}
