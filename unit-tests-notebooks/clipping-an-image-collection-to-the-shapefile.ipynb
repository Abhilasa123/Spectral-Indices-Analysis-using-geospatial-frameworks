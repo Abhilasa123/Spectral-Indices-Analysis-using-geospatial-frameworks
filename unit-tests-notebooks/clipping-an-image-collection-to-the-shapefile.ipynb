{
 "cells": [
  {
   "cell_type": "markdown",
   "id": "a9d34ea6",
   "metadata": {},
   "source": [
    "## Clipping the Image Collection to the shapefile"
   ]
  },
  {
   "cell_type": "code",
   "execution_count": null,
   "id": "731bd434",
   "metadata": {},
   "outputs": [],
   "source": [
    "import geemap\n",
    "import ee \n",
    "import os"
   ]
  },
  {
   "cell_type": "code",
   "execution_count": null,
   "id": "7c5e838c",
   "metadata": {},
   "outputs": [],
   "source": [
    "# Create an interactive map to view the results\n",
    "Map = geemap.Map(center=[40,100], zoom=4)\n",
    "Map"
   ]
  },
  {
   "cell_type": "code",
   "execution_count": null,
   "id": "2f97c8e3",
   "metadata": {},
   "outputs": [],
   "source": [
    "# Get the dataset from the earth engine server\n",
    "dataset_l7 = ee.ImageCollection('LANDSAT/LE07/C01/T1_RT_TOA')"
   ]
  },
  {
   "cell_type": "code",
   "execution_count": null,
   "id": "7d05882b",
   "metadata": {},
   "outputs": [],
   "source": [
    "# add the necessary shapefile\n",
    "# This can be a shapefile of the region of interest (roi) we want to extract from the whole map. We can also specify some\n",
    "# geometry objects in the form of polygon for getting the roi, if not available freely.\n",
    "city_file = '/home/manpa/Manpa_folder/Academic/Projects/APU work/shapefiles/Bengaluru-shapefile/BBMP_Boundary.shp'\n",
    "roi = geemap.shp_to_ee(city_file)\n",
    "Map.addLayer(roi, {}, 'Bengaluru')"
   ]
  },
  {
   "cell_type": "code",
   "execution_count": null,
   "id": "5e5e2ab5",
   "metadata": {},
   "outputs": [],
   "source": [
    "def clip_to_shape(image):\n",
    "    '''\n",
    "    This is function which takes an image and clips that image in the shape of the roi specified.\n",
    "    The output is the clipped image.\n",
    "    '''\n",
    "    return image.clip(roi)"
   ]
  },
  {
   "cell_type": "code",
   "execution_count": null,
   "id": "d3d6c889",
   "metadata": {},
   "outputs": [],
   "source": [
    "# Prepare an image collection object to filter the dataset with a given time interval. We might get one or more\n",
    "# images within that time frame\n",
    "# We also select the roi or region of interest and the bands to be extracted along with the dates.\n",
    "# The other important function used here is the map(function), where each image in the image collection is mapped to \n",
    "# custom clip_to_shape method output.\n",
    "collection = (dataset_l7.filterDate('2002-03-01','2002-05-31') \n",
    "collection = (dataset_l7.filterDate('2000-03-01','2000-05-31') \n",
    "              .filterBounds(roi)\n",
    "              .select('B4')\n",
    "              .map(clip_to_shape))"
   ]
  },
  {
   "cell_type": "code",
   "execution_count": null,
   "id": "e523bc94",
   "metadata": {},
   "outputs": [],
   "source": [
    "save_path = '../junk/'"
   ]
  },
  {
   "cell_type": "code",
   "execution_count": null,
   "id": "85fc50ce",
   "metadata": {},
   "outputs": [],
   "source": [
    "# download using geemap (specify the roi seperately)\n",
    "geemap.ee_export_image_collection(\n",
    "    collection, \n",
    "    out_dir = save_path, \n",
    "    scale=100, \n",
    "    crs=None, \n",
    "    region=roi.geometry(), \n",
    "    file_per_band=False, \n",
    "    timeout=300, \n",
    "    proxies=None\n",
    ")"
   ]
  }
 ],
 "metadata": {
  "kernelspec": {
   "display_name": "Python 3 (ipykernel)",
   "language": "python",
   "name": "python3"
  },
  "language_info": {
   "codemirror_mode": {
    "name": "ipython",
    "version": 3
   },
   "file_extension": ".py",
   "mimetype": "text/x-python",
   "name": "python",
   "nbconvert_exporter": "python",
   "pygments_lexer": "ipython3",
   "version": "3.9.12"
  }
 },
 "nbformat": 4,
 "nbformat_minor": 5
}
