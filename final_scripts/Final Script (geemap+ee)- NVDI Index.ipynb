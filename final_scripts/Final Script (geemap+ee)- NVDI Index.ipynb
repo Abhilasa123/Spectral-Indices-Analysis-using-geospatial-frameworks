{
 "cells": [
  {
   "cell_type": "markdown",
   "id": "62ca85bb",
   "metadata": {},
   "source": [
    "# Download NDVI indices yearwise in Geotiff format"
   ]
  },
  {
   "cell_type": "markdown",
   "id": "ad180d84",
   "metadata": {},
   "source": [
    "## Import packages"
   ]
  },
  {
   "cell_type": "code",
   "execution_count": 8,
   "id": "3fbd6f8e",
   "metadata": {},
   "outputs": [],
   "source": [
    "import geemap\n",
    "import ee \n",
    "import os\n",
    "import geemap.colormaps as cm\n",
    "import warnings\n",
    "warnings.filterwarnings('ignore')"
   ]
  },
  {
   "cell_type": "markdown",
   "id": "0392289e",
   "metadata": {},
   "source": [
    "## Create an ipyleaflet-based interactive map"
   ]
  },
  {
   "cell_type": "code",
   "execution_count": 5,
   "id": "cfe9b20c",
   "metadata": {},
   "outputs": [],
   "source": [
    "# A Map object is created which helps to interact with a open street interactive map and add layers to it.\n",
    "Map = geemap.Map(center=[40,100], zoom=4)"
   ]
  },
  {
   "cell_type": "markdown",
   "id": "6063a7f7",
   "metadata": {},
   "source": [
    "## Get the dataset from GEE server"
   ]
  },
  {
   "cell_type": "code",
   "execution_count": 6,
   "id": "44469ec1",
   "metadata": {},
   "outputs": [],
   "source": [
    "# The landsat 7 data is called from the Google Earth Engine Server and a Image Collection is created.\n",
    "dataset_l7 = ee.ImageCollection('LANDSAT/LE07/C01/T1_RT_TOA')\n",
    "\n",
    "# Run the code below to get more information about the dataset we want.\n",
    "# print(dataset_l7.size().getInfo()) "
   ]
  },
  {
   "cell_type": "markdown",
   "id": "7c58c2a1",
   "metadata": {},
   "source": [
    "## Get the shapefile (locally in this case)"
   ]
  },
  {
   "cell_type": "code",
   "execution_count": 9,
   "id": "e285f341",
   "metadata": {},
   "outputs": [],
   "source": [
    "# Get the shapefile either locally or create a Geometry object for creating the Region of Interest of our project.\n",
    "city_file = './shapefiles/Bengaluru-shapefile/BBMP_Boundary.shp'\n",
    "roi = geemap.shp_to_ee(city_file)\n",
    "\n",
    "# Add the roi (which is a FeatureCollection) to the interactive map\n",
    "Map.addLayer(roi, {}, 'Bengaluru') "
   ]
  },
  {
   "cell_type": "code",
   "execution_count": 137,
   "id": "ceef6112",
   "metadata": {},
   "outputs": [],
   "source": [
    "# Bring the roi object to the center of the Map\n",
    "Map.centerObject(roi)"
   ]
  },
  {
   "cell_type": "markdown",
   "id": "d6063f76",
   "metadata": {},
   "source": [
    "* TODO\n",
    "* find if any dataset available with all the shapefile\n",
    "* prepare a function to get folderwise shapefiles if offline shapefiles are provided"
   ]
  },
  {
   "cell_type": "markdown",
   "id": "1fcaee96",
   "metadata": {},
   "source": [
    "## Helper Functions"
   ]
  },
  {
   "cell_type": "code",
   "execution_count": 10,
   "id": "0bb43db0",
   "metadata": {},
   "outputs": [],
   "source": [
    "def clip_to_shape(image):\n",
    "    '''\n",
    "    Function to take an image and clip it according to the region of interest(roi).\n",
    "    It takes an image as an input and outputs the clipped version of the image according to roi\n",
    "    '''before hand\n",
    "    return image.clip(roi)"
   ]
  },
  {
   "cell_type": "code",
   "execution_count": 142,
   "id": "33dec1b1",
   "metadata": {},
   "outputs": [],
   "source": [
    "def maskclouds(image):\n",
    "    '''\n",
    "    Function to take an image and mask the clouds for better visibility. The returns the masked image.\n",
    "    '''\n",
    "    # Select the BQA band, which has the cloud information\n",
    "    qa = image.select('BQA')\n",
    "\n",
    "    # In BQA Band bit 4 is the cloud band, hence activate only that bit, set all other bits of BQA to zero\n",
    "    cloudBit = 1 << 4 #(00000001 -> 00010000) \n",
    "\n",
    "    # Both flags should be set to zero, indicating clear conditions.\n",
    "    mask = qa.bitwiseAnd(cloudBit).eq(0) # And with all the other bits of BQA to check for clouds\n",
    "    return image.updateMask(mask)"
   ]
  },
  {
   "cell_type": "code",
   "execution_count": 143,
   "id": "420aee04",
   "metadata": {},
   "outputs": [],
   "source": [
    "def ndvi_image_compute(img):\n",
    "    '''\n",
    "    Function to compute the ndvi index of the averaged image.It also initializes a download ready ndvi pallete for\n",
    "    visualization and returns the final color image (with pallete)/.\n",
    "    '''\n",
    "    # Computes the nvdi index of the image which is (Band 4 – Band 3) / (Band 4 + Band 3) for LandSAT 7.\n",
    "    ndvi_img = img.normalizedDifference(['B4', 'B3'])\n",
    "    ndvi_visualization = {\n",
    "#       'min': -0.22789797020331423,\n",
    "#       'max': 0.3912415762453296,\n",
    "#       'palette': 'FFFFFF, CE7E45, DF923D, F1B555, FCD163, 99B718, 74A901, 66A000, 529400,' + \\\n",
    "#         '3E8601, 207401, 056201, 004C00, 023B01, 012E01, 011D01, 011301'\n",
    "      'palette': cm.palettes.ndvi,\n",
    "        }\n",
    "    # Get a corrected image with the pallete specified.\n",
    "    corrected_img = ndvi_img.visualize(**ndvi_visualization)\n",
    "    \n",
    "    return corrected_img"
   ]
  },
  {
   "cell_type": "code",
   "execution_count": 144,
   "id": "e5fd9895",
   "metadata": {},
   "outputs": [],
   "source": [
    "def filter_date(year,i,flag):\n",
    "    '''\n",
    "    Function to compute the start and the end date of a particular season. It takes the year and the season of \n",
    "    which we need to find the date and returns the start and the end date is YYYY/MM/DD format\n",
    "    '''\n",
    "    start_date = ee.Date.fromYMD(year,seasons[i][1],seasons[i][0])\n",
    "    if flag==0:\n",
    "        end_date = ee.Date.fromYMD(year,seasons[i][3],seasons[i][2])\n",
    "    else:\n",
    "        end_date = ee.Date.fromYMD(year+1,seasons[i][3],seasons[i][2])\n",
    "    \n",
    "    return start_date, end_date\n",
    "    "
   ]
  },
  {
   "cell_type": "code",
   "execution_count": null,
   "id": "d4846859",
   "metadata": {},
   "outputs": [],
   "source": [
    "def get_filtered_image(year,i,flag):\n",
    "    '''\n",
    "    Function to get the final computed image of the year specified ( sort by filterdate_ cloud_masked + mean +\n",
    "    ndvi computed)/. The function returns the final computed image.\n",
    "    '''\n",
    "    start_date,end_date = filter_date(year,i,flag)\n",
    "    \n",
    "    img = (dataset_l7.filterDate(start_date,end_date)\n",
    "                    .filterBounds(roi)\n",
    "                    .map(maskclouds)\n",
    "                    .select('B3','B4')\n",
    "                    .mean())\n",
    "    img = ndvi_image_compute(img)\n",
    "    return img\n",
    "    "
   ]
  },
  {
   "cell_type": "code",
   "execution_count": null,
   "id": "04c3acd5",
   "metadata": {},
   "outputs": [],
   "source": [
    "def yearlyMap(year):\n",
    "    '''\n",
    "    Function to loop over the five selected intervals over an year by taking a year input.\n",
    "    '''\n",
    "    year_folder = str(year)\n",
    "    for k,season in enumerate(seasons):\n",
    "        if season=='djf' or season== 'ann':\n",
    "            img = get_filtered_image(year,season,flag=1) \n",
    "        else:\n",
    "            img = get_filtered_image(year,season,flag=0)\n",
    "        filename = season + '-' + str(year)\n",
    "        download_to_drive(filename, year_folder,img)"
   ]
  },
  {
   "cell_type": "code",
   "execution_count": 145,
   "id": "ec6b8867",
   "metadata": {},
   "outputs": [],
   "source": [
    "def download_to_drive(filename,year_folder,img):\n",
    "    '''\n",
    "    Function to download the images year wise into the authenticated drive in a geotiff format in the specified\n",
    "    year folders.\n",
    "    '''\n",
    "    task = ee.batch.Export.image.toDrive(image= img.clip(roi),\n",
    "                                     description='ndvi index computation for two decades',\n",
    "                                     scale=30,\n",
    "                                     region=roi.geometry(),\n",
    "                                     folder=year_folder,\n",
    "                                     fileNamePrefix=filename,\n",
    "                                     fileFormat='GeoTIFF')\n",
    "    task.start()"
   ]
  },
  {
   "cell_type": "markdown",
   "id": "73dd47d2",
   "metadata": {},
   "source": [
    "## External Paramter Initialization"
   ]
  },
  {
   "cell_type": "code",
   "execution_count": null,
   "id": "c9a61ffe",
   "metadata": {},
   "outputs": [],
   "source": [
    "# Python dictionary where the 'key' states the yearly timeframes to be evaluated\n",
    "# mam: mar-apr-may; jjas: jun-jul-aug-sep; on: oct-nov; djf: dec-jan-feb; ann: annual\n",
    "# The values indicates the stating and the ending dates of the timesframes to be evaluated\n",
    "# [start date, start month, end date, end month]\n",
    "seasons = {'mam':[1,3,31,5],'jjas':[1,6,30,9],'on':[1,10,30,11],'djf':[1,12,28,2],'ann':[1,3,28,2]}\n",
    "\n",
    "# State the start and end year of evaluation\n",
    "start_year = 2000 \n",
    "end_year = 2002"
   ]
  },
  {
   "cell_type": "code",
   "execution_count": null,
   "id": "4c76c1c4",
   "metadata": {},
   "outputs": [],
   "source": [
    "# List of years\n",
    "years = [y for y in range(start_year,end_year)]"
   ]
  },
  {
   "cell_type": "code",
   "execution_count": 147,
   "id": "94dc9959",
   "metadata": {},
   "outputs": [],
   "source": [
    "# Loop the computation over the specified list of years\n",
    "for year in years:\n",
    "    yearlyMap(year)"
   ]
  }
 ],
 "metadata": {
  "kernelspec": {
   "display_name": "Python 3 (ipykernel)",
   "language": "python",
   "name": "python3"
  },
  "language_info": {
   "codemirror_mode": {
    "name": "ipython",
    "version": 3
   },
   "file_extension": ".py",
   "mimetype": "text/x-python",
   "name": "python",
   "nbconvert_exporter": "python",
   "pygments_lexer": "ipython3",
   "version": "3.9.12"
  }
 },
 "nbformat": 4,
 "nbformat_minor": 5
}
