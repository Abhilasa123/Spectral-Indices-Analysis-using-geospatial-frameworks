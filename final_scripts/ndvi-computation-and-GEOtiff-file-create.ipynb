{
 "cells": [
  {
   "cell_type": "markdown",
   "id": "62ca85bb",
   "metadata": {},
   "source": [
    "# Download NDVI indices yearwise in Geotiff format"
   ]
  },
  {
   "cell_type": "markdown",
   "id": "ad180d84",
   "metadata": {},
   "source": [
    "## Import packages"
   ]
  },
  {
   "cell_type": "code",
   "execution_count": 11,
   "id": "3fbd6f8e",
   "metadata": {},
   "outputs": [],
   "source": [
    "import geemap\n",
    "import ee \n",
    "import os\n",
    "import geemap.colormaps as cm\n",
    "import warnings\n",
    "warnings.filterwarnings('ignore')"
   ]
  },
  {
   "cell_type": "code",
   "execution_count": 12,
   "id": "06374288",
   "metadata": {},
   "outputs": [],
   "source": [
    "#get the variable initialized\n",
    "%store -r "
   ]
  },
  {
   "cell_type": "code",
   "execution_count": 37,
   "id": "cfe9b20c",
   "metadata": {},
   "outputs": [],
   "source": [
    "# A Map object is created which helps to interact with a open street interactive map and add layers to it.\n",
    "Map = geemap.Map(center=[40,100], zoom=4)"
   ]
  },
  {
   "cell_type": "code",
   "execution_count": 38,
   "id": "49473d93",
   "metadata": {},
   "outputs": [
    {
     "data": {
      "application/vnd.jupyter.widget-view+json": {
       "model_id": "aae82f2497c54c96a09c5fe0c0f95d34",
       "version_major": 2,
       "version_minor": 0
      },
      "text/plain": [
       "Map(center=[40, 100], controls=(WidgetControl(options=['position', 'transparent_bg'], widget=HBox(children=(To…"
      ]
     },
     "metadata": {},
     "output_type": "display_data"
    }
   ],
   "source": [
    "Map"
   ]
  },
  {
   "cell_type": "markdown",
   "id": "6063a7f7",
   "metadata": {},
   "source": [
    "## Get the dataset from GEE server"
   ]
  },
  {
   "cell_type": "code",
   "execution_count": 39,
   "id": "44469ec1",
   "metadata": {},
   "outputs": [],
   "source": [
    "# The landsat 7 data is called from the Google Earth Engine Server and a Image Collection is created.\n",
    "dataset_l7 = ee.ImageCollection('LANDSAT/LE07/C01/T1_RT_TOA')\n",
    "\n",
    "# Run the code below to get more information about the dataset we want.\n",
    "# print(dataset_l7.size().getInfo()) "
   ]
  },
  {
   "cell_type": "markdown",
   "id": "7c4b90e7",
   "metadata": {},
   "source": [
    "## Helper Functions"
   ]
  },
  {
   "cell_type": "code",
   "execution_count": 41,
   "id": "0bb43db0",
   "metadata": {},
   "outputs": [],
   "source": [
    "def clip_to_shape(image):\n",
    "    '''\n",
    "    Function to take an image and clip it according to the region of interest(roi).\n",
    "    It takes an image as an input and outputs the clipped version of the image according to roi\n",
    "    '''\n",
    "    return image.clip(roi)"
   ]
  },
  {
   "cell_type": "code",
   "execution_count": 42,
   "id": "33dec1b1",
   "metadata": {},
   "outputs": [],
   "source": [
    "def maskclouds(image):\n",
    "    '''\n",
    "    Function to take an image and mask the clouds for better visibility. The returns the masked image.\n",
    "    '''\n",
    "    # Select the BQA band, which has the cloud information\n",
    "    qa = image.select('BQA')\n",
    "\n",
    "    # In BQA Band bit 4 is the cloud band, hence activate only that bit, set all other bits of BQA to zero\n",
    "    cloudBit = 1 << 4 #(00000001 -> 00010000) \n",
    "\n",
    "    # Both flags should be set to zero, indicating clear conditions.\n",
    "    mask = qa.bitwiseAnd(cloudBit).eq(0) # And with all the other bits of BQA to check for clouds\n",
    "    return image.updateMask(mask)"
   ]
  },
  {
   "cell_type": "code",
   "execution_count": 43,
   "id": "420aee04",
   "metadata": {},
   "outputs": [],
   "source": [
    "def ndvi_image_compute(img):\n",
    "    '''\n",
    "    Function to compute the ndvi index of the averaged image.It also initializes a download ready ndvi pallete for\n",
    "    visualization and returns the final color image (with pallete)/.\n",
    "    '''\n",
    "    # Computes the nvdi index of the image which is (Band 4 – Band 3) / (Band 4 + Band 3) for LandSAT 7.\n",
    "    ndvi_img = img.normalizedDifference(['B4', 'B3'])\n",
    "    ndvi_visualization = {\n",
    "#       'min': -0.22789797020331423,\n",
    "#       'max': 0.3912415762453296,\n",
    "#       'palette': 'FFFFFF, CE7E45, DF923D, F1B555, FCD163, 99B718, 74A901, 66A000, 529400,' + \\\n",
    "#         '3E8601, 207401, 056201, 004C00, 023B01, 012E01, 011D01, 011301'\n",
    "      'palette': cm.palettes.ndvi,\n",
    "        }\n",
    "    # Get a corrected image with the pallete specified.\n",
    "    corrected_img = ndvi_img.visualize(**ndvi_visualization)\n",
    "    \n",
    "    return corrected_img"
   ]
  },
  {
   "cell_type": "code",
   "execution_count": 44,
   "id": "e5fd9895",
   "metadata": {},
   "outputs": [],
   "source": [
    "def filter_date(year,i,flag):\n",
    "    '''\n",
    "    Function to compute the start and the end date of a particular season. It takes the year and the season of \n",
    "    which we need to find the date and returns the start and the end date is YYYY/MM/DD format\n",
    "    '''\n",
    "    start_date = ee.Date.fromYMD(year,seasons[i][1],seasons[i][0])\n",
    "    if flag==0:\n",
    "        end_date = ee.Date.fromYMD(year,seasons[i][3],seasons[i][2])\n",
    "    else:\n",
    "        end_date = ee.Date.fromYMD(year+1,seasons[i][3],seasons[i][2])\n",
    "    \n",
    "    return start_date, end_date\n",
    "    "
   ]
  },
  {
   "cell_type": "code",
   "execution_count": 45,
   "id": "3529edb5",
   "metadata": {},
   "outputs": [],
   "source": [
    "def get_filtered_image(year,i,roi,flag):\n",
    "    '''\n",
    "    Function to get the final computed image of the year specified ( sort by filterdate_ cloud_masked + mean +\n",
    "    ndvi computed)/. The function returns the final computed image.\n",
    "    '''\n",
    "    start_date,end_date = filter_date(year,i,flag)\n",
    "    \n",
    "    img = (dataset_l7.filterDate(start_date,end_date)\n",
    "                    .filterBounds(roi)\n",
    "                    .map(maskclouds)\n",
    "                    .select('B3','B4')\n",
    "                    .mean())\n",
    "    img = ndvi_image_compute(img)\n",
    "    return img\n",
    "    "
   ]
  },
  {
   "cell_type": "code",
   "execution_count": 46,
   "id": "82c82a92",
   "metadata": {},
   "outputs": [],
   "source": [
    "def yearlyMap(year,district_name,roi):\n",
    "    '''\n",
    "    Function to loop over the five selected intervals over an year by taking a year input.\n",
    "    '''\n",
    "    year_folder = district_name\n",
    "    for k,season in enumerate(seasons):\n",
    "        if season=='djf' or season== 'ann':\n",
    "            img = get_filtered_image(year,season,roi,flag=1) \n",
    "        else:\n",
    "            img = get_filtered_image(year,season,roi,flag=0)\n",
    "        filename = season + '-' + str(year)\n",
    "        download_to_drive(filename, year_folder,img,roi)"
   ]
  },
  {
   "cell_type": "code",
   "execution_count": 47,
   "id": "ec6b8867",
   "metadata": {},
   "outputs": [],
   "source": [
    "def download_to_drive(filename,year_folder,img,roi):\n",
    "    '''\n",
    "    Function to download the images year wise into the authenticated drive in a geotiff format in the specified\n",
    "    year folders.\n",
    "    '''\n",
    "    task = ee.batch.Export.image.toDrive(image= img.clip(roi),\n",
    "                                     description='ndvi index computation for two decades',\n",
    "                                     scale=30,\n",
    "                                     region=roi.geometry(),\n",
    "                                     folder=year_folder,\n",
    "                                     fileNamePrefix=filename,\n",
    "                                     fileFormat='GeoTIFF')\n",
    "    task.start()"
   ]
  },
  {
   "cell_type": "markdown",
   "id": "f5291baf",
   "metadata": {},
   "source": [
    "## Looping code"
   ]
  },
  {
   "cell_type": "code",
   "execution_count": 49,
   "id": "04337699",
   "metadata": {},
   "outputs": [],
   "source": [
    "# List of years\n",
    "years = [y for y in range(start_year,end_year)]"
   ]
  },
  {
   "cell_type": "code",
   "execution_count": 50,
   "id": "273b5f47",
   "metadata": {},
   "outputs": [],
   "source": [
    "for roi,district_name in shape_files.items():\n",
    "    # Loop the computation over the specified list of years for this roi\n",
    "    for year in years:\n",
    "        yearlyMap(year,district_name,roi)"
   ]
  },
  {
   "cell_type": "code",
   "execution_count": null,
   "id": "94dc9959",
   "metadata": {},
   "outputs": [],
   "source": []
  }
 ],
 "metadata": {
  "kernelspec": {
   "display_name": "Python 3 (ipykernel)",
   "language": "python",
   "name": "python3"
  },
  "language_info": {
   "codemirror_mode": {
    "name": "ipython",
    "version": 3
   },
   "file_extension": ".py",
   "mimetype": "text/x-python",
   "name": "python",
   "nbconvert_exporter": "python",
   "pygments_lexer": "ipython3",
   "version": "3.9.12"
  }
 },
 "nbformat": 4,
 "nbformat_minor": 5
}
