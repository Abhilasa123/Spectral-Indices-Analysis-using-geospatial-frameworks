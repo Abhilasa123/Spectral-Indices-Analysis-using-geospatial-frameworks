{
 "cells": [
  {
   "cell_type": "markdown",
   "id": "dcc75e59",
   "metadata": {},
   "source": [
    "# Notebook defining the parameters"
   ]
  },
  {
   "cell_type": "markdown",
   "id": "c133377f",
   "metadata": {},
   "source": [
    "## Define the user parameters"
   ]
  },
  {
   "cell_type": "code",
   "execution_count": 1,
   "id": "8f66ec31",
   "metadata": {},
   "outputs": [],
   "source": [
    "# State the start and end year of evaluation\n",
    "start_year = 2000 \n",
    "end_year = 2002\n",
    "\n",
    "# List the districts you want to evaluate\n",
    "districts = ['Bangalore Urban','Jorhat'];\n",
    "\n",
    "# Python dictionary where the 'key' states the yearly timeframes to be evaluated\n",
    "# mam: mar-apr-may; jjas: jun-jul-aug-sep; on: oct-nov; djf: dec-jan-feb; ann: annual\n",
    "# The values indicates the stating and the ending dates of the timesframes to be evaluated\n",
    "# [start date, start month, end date, end month]\n",
    "seasons = {'mam':[1,3,31,5],'jjas':[1,6,30,9],'on':[1,10,30,11],'djf':[1,12,28,2],'ann':[1,3,28,2]}"
   ]
  },
  {
   "cell_type": "markdown",
   "id": "78344b19",
   "metadata": {},
   "source": [
    "## Code to get the shapefiles"
   ]
  },
  {
   "cell_type": "code",
   "execution_count": 2,
   "id": "886a2408",
   "metadata": {},
   "outputs": [],
   "source": [
    "#Imports\n",
    "import geemap\n",
    "import ee \n",
    "import warnings\n",
    "warnings.filterwarnings('ignore')"
   ]
  },
  {
   "cell_type": "code",
   "execution_count": 3,
   "id": "34d90a9f",
   "metadata": {},
   "outputs": [],
   "source": [
    "# Get the interactive map to display\n",
    "Map = geemap.Map(center=[40,100], zoom=4)"
   ]
  },
  {
   "cell_type": "markdown",
   "id": "f2ffbbf6",
   "metadata": {},
   "source": [
    "## Loop over the district shapefiles"
   ]
  },
  {
   "cell_type": "code",
   "execution_count": 4,
   "id": "6d1eaf7e",
   "metadata": {},
   "outputs": [],
   "source": [
    "# Get the district shapefile dataset from Google Earth Engine\n",
    "dataset = ee.FeatureCollection(\"FAO/GAUL/2015/level2\");\n",
    "# Display the dataset as a layer in the interactive dataset\n",
    "Map.addLayer(dataset, {}, 'Second Level Administrative Units');"
   ]
  },
  {
   "cell_type": "code",
   "execution_count": 5,
   "id": "45163ba6",
   "metadata": {},
   "outputs": [
    {
     "data": {
      "application/vnd.jupyter.widget-view+json": {
       "model_id": "59cba081fd604a6a84cf807f5bb4ebfe",
       "version_major": 2,
       "version_minor": 0
      },
      "text/plain": [
       "Map(center=[40, 100], controls=(WidgetControl(options=['position', 'transparent_bg'], widget=HBox(children=(To…"
      ]
     },
     "metadata": {},
     "output_type": "display_data"
    }
   ],
   "source": [
    "# Display the map with the district boundaries\n",
    "Map"
   ]
  },
  {
   "cell_type": "code",
   "execution_count": 6,
   "id": "5873b5ac",
   "metadata": {},
   "outputs": [],
   "source": [
    "# Loop over the shapefiles and store them as feature collection.\n",
    "shape_collection = []\n",
    "for district in districts:\n",
    "    roi = dataset.filter(ee.Filter.eq('ADM2_NAME', district))\n",
    "    shape_collection.append(roi)\n",
    "    # Visualize the dixtrict in the interactive map\n",
    "    # Map.addLayer(border, {}, district) \n",
    "# A python dictionary where key is the shapefile feature collection and corresponding value is the name of the district.\n",
    "shape_files = dict(zip(shape_collection, districts))"
   ]
  },
  {
   "cell_type": "markdown",
   "id": "55fa9ccf",
   "metadata": {},
   "source": [
    "## Store the variables we want to propagate"
   ]
  },
  {
   "cell_type": "code",
   "execution_count": 7,
   "id": "f3f6a52d",
   "metadata": {},
   "outputs": [
    {
     "name": "stdout",
     "output_type": "stream",
     "text": [
      "Stored 'shape_files' (dict)\n",
      "Stored 'start_year' (int)\n",
      "Stored 'end_year' (int)\n",
      "Stored 'seasons' (dict)\n"
     ]
    }
   ],
   "source": [
    "%store shape_files\n",
    "%store start_year\n",
    "%store end_year\n",
    "%store seasons"
   ]
  }
 ],
 "metadata": {
  "kernelspec": {
   "display_name": "Python 3 (ipykernel)",
   "language": "python",
   "name": "python3"
  },
  "language_info": {
   "codemirror_mode": {
    "name": "ipython",
    "version": 3
   },
   "file_extension": ".py",
   "mimetype": "text/x-python",
   "name": "python",
   "nbconvert_exporter": "python",
   "pygments_lexer": "ipython3",
   "version": "3.9.12"
  }
 },
 "nbformat": 4,
 "nbformat_minor": 5
}
